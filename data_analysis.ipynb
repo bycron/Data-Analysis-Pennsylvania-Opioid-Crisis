{
 "cells": [
  {
   "cell_type": "markdown",
   "metadata": {},
   "source": [
    "# PA Opioid Epidemic"
   ]
  },
  {
   "cell_type": "code",
   "execution_count": 59,
   "metadata": {},
   "outputs": [],
   "source": [
    "import pandas as pd\n",
    "import numpy as np\n",
    "import matplotlib.pyplot as plt\n",
    "import folium"
   ]
  },
  {
   "cell_type": "code",
   "execution_count": 60,
   "metadata": {},
   "outputs": [],
   "source": [
    "overdose_dat = 'Overdose_Information_Network_Data_CY_January_2018_-_Current_Monthly_County_State_Police.csv'\n",
    "county_geo = 'PaCounty2020_01.geojson'"
   ]
  },
  {
   "cell_type": "code",
   "execution_count": 61,
   "metadata": {},
   "outputs": [],
   "source": [
    "ovd = pd.read_csv(overdose_dat)"
   ]
  },
  {
   "cell_type": "code",
   "execution_count": 62,
   "metadata": {},
   "outputs": [],
   "source": [
    "df = ovd.drop(['Incident Time', 'Response Time Desc', 'Revive Action Desc', 'Response Desc', 'Victim County', 'Victim OD Drug ID', 'Third Party Admin Desc', 'Administration ID', 'Dose Count', 'Dose Unit', 'Dose Desc', 'Incident ID', 'Victim State', 'Incident State', 'Victim County Latitude and Longitude', 'Incident County Latitude and Longitude', 'Victim ID', 'Victim County FIPS Code', 'Incident County FIPS Code', 'Victim County Latitude', 'Victim County Longitude'], axis=1)\n",
    "df = df.rename(columns={\"Survive\": \"Survived\", \"Ethnicity Desc\": \"Hispanic\", \"Accidental Exposure\": \"Accident\", \"Age Range\": \"Age\", \"Naloxone Administered\": \"Naloxone\", \"Incident County Longitude\": \"Longitude\", \"Incident County Latitude\": \"Latitude\", \"Susp OD Drug Desc\": \"Drug\", \"Gender Desc\": \"Gender\", \"Incident Date\": \"Date\", \"Incident County Name\": \"County\"})"
   ]
  },
  {
   "cell_type": "code",
   "execution_count": 63,
   "metadata": {},
   "outputs": [],
   "source": [
    "df['Date'] = df['Date'].replace(to_replace=r'\\/', value=':', regex=True)\n",
    "df['Date'] = pd.to_datetime(df['Date'], format='%m:%d:%Y')"
   ]
  },
  {
   "cell_type": "code",
   "execution_count": 64,
   "metadata": {},
   "outputs": [],
   "source": [
    "df['Age'] = df['Age'].replace(to_replace=r'\\s\\-\\s', value='-', regex=True)\n",
    "df['Age'] = df['Age'].replace(to_replace=r'14-Oct', value='0-14')\n",
    "df['Age'] = df['Age'].replace(to_replace=r'0-9', value='0-14')\n",
    "df['Age'] = df['Age'].replace(to_replace=r'70-79', value='70-99')\n",
    "df['Age'] = df['Age'].replace(to_replace=r'80-*', value='70-99')"
   ]
  },
  {
   "cell_type": "code",
   "execution_count": 65,
   "metadata": {},
   "outputs": [],
   "source": [
    "df['Gender'] = df['Gender'].replace(to_replace=r'Male', value='M')\n",
    "df['Gender'] = df['Gender'].replace(to_replace=r'Female', value='F')\n",
    "df['Gender'] = df['Gender'].replace(to_replace=r'Unknown', value='U')"
   ]
  },
  {
   "cell_type": "code",
   "execution_count": 66,
   "metadata": {},
   "outputs": [],
   "source": [
    "df['Survived'] = df['Survived'].replace(to_replace=r'Y', value='T')\n",
    "df['Survived'] = df['Survived'].replace(to_replace=r'N', value='F')"
   ]
  },
  {
   "cell_type": "code",
   "execution_count": 67,
   "metadata": {},
   "outputs": [],
   "source": [
    "df['Hispanic'] = df['Hispanic'].replace(to_replace=r'Not Hispanic', value='F')\n",
    "df['Hispanic'] = df['Hispanic'].replace(to_replace=r'Hispanic', value='T')\n",
    "df['Hispanic'] = df['Hispanic'].replace(to_replace=r'Unknown', value='F')\n",
    "df['Hispanic'] = df['Hispanic'].replace(to_replace=r'Mongolian', value='F')"
   ]
  },
  {
   "cell_type": "code",
   "execution_count": 68,
   "metadata": {},
   "outputs": [],
   "source": [
    "df['Race'] = df['Race'].replace(to_replace=r'Unknown', value='Other')\n",
    "df['Race'] = df['Race'].replace(to_replace=r'Asian or Pacific Islander', value='Other')\n",
    "df['Race'] = df['Race'].replace(to_replace=r'American Indian or Alaskan Native', value='Other')\n",
    "df['Race'] = df['Race'].replace(to_replace=r'Other', value='O')\n",
    "df['Race'] = df['Race'].replace(to_replace=r'White', value='W')\n",
    "df['Race'] = df['Race'].replace(to_replace=r'Black', value='B')"
   ]
  },
  {
   "cell_type": "code",
   "execution_count": 69,
   "metadata": {},
   "outputs": [],
   "source": [
    "df['Drug'] = df['Drug'].str.lower()\n",
    "df['Drug'] = df['Drug'].replace(to_replace=r'benzodiazepines (i.e.valium, xanax, ativan, etc)', value='benzodiazepines')\n",
    "df['Drug'] = df['Drug'].replace(to_replace=r'buprenorphine (i.e. suboxone, sublocade, subutex, butrans, buprenex, etc)', value='buprenorphine')\n",
    "df['Drug'] = df['Drug'].replace(to_replace=r'barbiturates (i.e. amytal, nembutal, etc)', value='barbiturates')\n",
    "df['Drug'] = df['Drug'].replace(to_replace=r'fentanyl analog/other synthetic opioid', value='fentanyl')"
   ]
  },
  {
   "cell_type": "code",
   "execution_count": 70,
   "metadata": {},
   "outputs": [],
   "source": [
    "df['Accident'] = df['Accident'].replace(to_replace=r'N', value='F')\n",
    "df['Accident'] = df['Accident'].replace(to_replace=r'Y', value='T')"
   ]
  },
  {
   "cell_type": "code",
   "execution_count": 71,
   "metadata": {},
   "outputs": [],
   "source": [
    "df['Naloxone'] = df['Naloxone'].replace(to_replace=r'N', value='F')\n",
    "df['Naloxone'] = df['Naloxone'].replace(to_replace=r'Y', value='T')"
   ]
  },
  {
   "cell_type": "code",
   "execution_count": 72,
   "metadata": {},
   "outputs": [],
   "source": [
    "df['Survived'] = df['Survived'].replace(to_replace=r'N', value='F')\n",
    "df['Survived'] = df['Survived'].replace(to_replace=r'Y', value='T')\n",
    "df['Survived'] = df['Survived'].replace(to_replace=r'U', value='U')"
   ]
  },
  {
   "cell_type": "code",
   "execution_count": 73,
   "metadata": {},
   "outputs": [
    {
     "data": {
      "text/html": [
       "<div>\n",
       "<style scoped>\n",
       "    .dataframe tbody tr th:only-of-type {\n",
       "        vertical-align: middle;\n",
       "    }\n",
       "\n",
       "    .dataframe tbody tr th {\n",
       "        vertical-align: top;\n",
       "    }\n",
       "\n",
       "    .dataframe thead th {\n",
       "        text-align: right;\n",
       "    }\n",
       "</style>\n",
       "<table border=\"1\" class=\"dataframe\">\n",
       "  <thead>\n",
       "    <tr style=\"text-align: right;\">\n",
       "      <th></th>\n",
       "      <th>Date</th>\n",
       "      <th>Day</th>\n",
       "      <th>County</th>\n",
       "      <th>Gender</th>\n",
       "      <th>Age</th>\n",
       "      <th>Race</th>\n",
       "      <th>Hispanic</th>\n",
       "      <th>Accident</th>\n",
       "      <th>Drug</th>\n",
       "      <th>Naloxone</th>\n",
       "      <th>Survived</th>\n",
       "      <th>Latitude</th>\n",
       "      <th>Longitude</th>\n",
       "    </tr>\n",
       "  </thead>\n",
       "  <tbody>\n",
       "    <tr>\n",
       "      <th>0</th>\n",
       "      <td>2020-07-02</td>\n",
       "      <td>Thursday</td>\n",
       "      <td>York</td>\n",
       "      <td>M</td>\n",
       "      <td>50-59</td>\n",
       "      <td>W</td>\n",
       "      <td>T</td>\n",
       "      <td>F</td>\n",
       "      <td>heroin</td>\n",
       "      <td>T</td>\n",
       "      <td>T</td>\n",
       "      <td>39.921925</td>\n",
       "      <td>-76.725761</td>\n",
       "    </tr>\n",
       "    <tr>\n",
       "      <th>1</th>\n",
       "      <td>2020-09-20</td>\n",
       "      <td>Sunday</td>\n",
       "      <td>York</td>\n",
       "      <td>M</td>\n",
       "      <td>20-24</td>\n",
       "      <td>W</td>\n",
       "      <td>F</td>\n",
       "      <td>F</td>\n",
       "      <td>fentanyl</td>\n",
       "      <td>T</td>\n",
       "      <td>T</td>\n",
       "      <td>39.921925</td>\n",
       "      <td>-76.725761</td>\n",
       "    </tr>\n",
       "    <tr>\n",
       "      <th>2</th>\n",
       "      <td>2020-09-11</td>\n",
       "      <td>Friday</td>\n",
       "      <td>Union</td>\n",
       "      <td>M</td>\n",
       "      <td>50-59</td>\n",
       "      <td>W</td>\n",
       "      <td>F</td>\n",
       "      <td>F</td>\n",
       "      <td>heroin</td>\n",
       "      <td>F</td>\n",
       "      <td>F</td>\n",
       "      <td>40.964731</td>\n",
       "      <td>-77.064158</td>\n",
       "    </tr>\n",
       "    <tr>\n",
       "      <th>3</th>\n",
       "      <td>2020-07-10</td>\n",
       "      <td>Friday</td>\n",
       "      <td>York</td>\n",
       "      <td>M</td>\n",
       "      <td>40-49</td>\n",
       "      <td>W</td>\n",
       "      <td>F</td>\n",
       "      <td>F</td>\n",
       "      <td>fentanyl</td>\n",
       "      <td>T</td>\n",
       "      <td>T</td>\n",
       "      <td>39.921925</td>\n",
       "      <td>-76.725761</td>\n",
       "    </tr>\n",
       "    <tr>\n",
       "      <th>4</th>\n",
       "      <td>2020-06-20</td>\n",
       "      <td>Saturday</td>\n",
       "      <td>York</td>\n",
       "      <td>M</td>\n",
       "      <td>40-49</td>\n",
       "      <td>W</td>\n",
       "      <td>F</td>\n",
       "      <td>F</td>\n",
       "      <td>fentanyl</td>\n",
       "      <td>F</td>\n",
       "      <td>F</td>\n",
       "      <td>39.921925</td>\n",
       "      <td>-76.725761</td>\n",
       "    </tr>\n",
       "  </tbody>\n",
       "</table>\n",
       "</div>"
      ],
      "text/plain": [
       "        Date       Day County Gender    Age Race Hispanic Accident      Drug  \\\n",
       "0 2020-07-02  Thursday   York      M  50-59    W        T        F    heroin   \n",
       "1 2020-09-20    Sunday   York      M  20-24    W        F        F  fentanyl   \n",
       "2 2020-09-11    Friday  Union      M  50-59    W        F        F    heroin   \n",
       "3 2020-07-10    Friday   York      M  40-49    W        F        F  fentanyl   \n",
       "4 2020-06-20  Saturday   York      M  40-49    W        F        F  fentanyl   \n",
       "\n",
       "  Naloxone Survived   Latitude  Longitude  \n",
       "0        T        T  39.921925 -76.725761  \n",
       "1        T        T  39.921925 -76.725761  \n",
       "2        F        F  40.964731 -77.064158  \n",
       "3        T        T  39.921925 -76.725761  \n",
       "4        F        F  39.921925 -76.725761  "
      ]
     },
     "execution_count": 73,
     "metadata": {},
     "output_type": "execute_result"
    }
   ],
   "source": [
    "df.head()"
   ]
  },
  {
   "cell_type": "code",
   "execution_count": 74,
   "metadata": {},
   "outputs": [],
   "source": [
    "df_counties = df.groupby('County')['Survived'].transform('sum')"
   ]
  },
  {
   "cell_type": "code",
   "execution_count": 75,
   "metadata": {},
   "outputs": [
    {
     "data": {
      "text/plain": [
       "0        TTTFTTTFTFTUTTTTTTTTFTFTTTFTTTTTTTTFTTTFTTFTTF...\n",
       "1        TTTFTTTFTFTUTTTTTTTTFTFTTTFTTTTTTTTFTTTFTTFTTF...\n",
       "2                                FUTTTTTUFFUFTUTTTFTTTTFTF\n",
       "3        TTTFTTTFTFTUTTTTTTTTFTFTTTFTTTTTTTTFTTTFTTFTTF...\n",
       "4        TTTFTTTFTFTUTTTTTTTTFTFTTTFTTTTTTTTFTTTFTTFTTF...\n",
       "                               ...                        \n",
       "23703    FUTTTTTTTFUFFTTTTFTTTTTFTTFTTTTTFTTTTTTTTTTTUT...\n",
       "23704    FTTTTTTTTFTTFTTFTTTTTTTFTFTTUFFTFFFTTTFTTTTTTT...\n",
       "23705    FFTTTTTFFTTTTFTTUTUFTFTFTTTTFTTFTTFTTTTTTUFFTF...\n",
       "23706    FFTTTTTFFTTTTFTTUTUFTFTFTTTTFTTFTTFTTTTTTUFFTF...\n",
       "23707    FFTFTTTTFTTTTTFTTUTFTTTTTFTUTTTTTTFTTTTTTTTTTT...\n",
       "Name: Survived, Length: 23708, dtype: object"
      ]
     },
     "execution_count": 75,
     "metadata": {},
     "output_type": "execute_result"
    }
   ],
   "source": [
    "df_counties"
   ]
  },
  {
   "cell_type": "code",
   "execution_count": null,
   "metadata": {},
   "outputs": [],
   "source": [
    "df.index.values"
   ]
  },
  {
   "cell_type": "code",
   "execution_count": null,
   "metadata": {},
   "outputs": [],
   "source": [
    "latitude = 40.903323 \n",
    "longitude = -77.594527\n",
    "pa = folium.Map(location=[latitude, longitude], zoom_start=8)\n",
    "\n",
    "folium.GeoJson(county_geo, name=\"geojson\").add_to(pa)\n",
    "\n",
    "folium.LayerControl().add_to(pa)\n",
    "\n",
    "pa"
   ]
  },
  {
   "cell_type": "code",
   "execution_count": null,
   "metadata": {},
   "outputs": [],
   "source": [
    "latitude = 41.203323 \n",
    "longitude = -77.194527\n",
    "m = folium.Map(location=[latitude, longitude], zoom_start=7)\n",
    "\n",
    "\n",
    "\n",
    "\n",
    "m"
   ]
  },
  {
   "cell_type": "code",
   "execution_count": null,
   "metadata": {},
   "outputs": [],
   "source": []
  }
 ],
 "metadata": {
  "kernelspec": {
   "display_name": "Python 3",
   "language": "python",
   "name": "python3"
  },
  "language_info": {
   "codemirror_mode": {
    "name": "ipython",
    "version": 3
   },
   "file_extension": ".py",
   "mimetype": "text/x-python",
   "name": "python",
   "nbconvert_exporter": "python",
   "pygments_lexer": "ipython3",
   "version": "3.9.1"
  }
 },
 "nbformat": 4,
 "nbformat_minor": 4
}
