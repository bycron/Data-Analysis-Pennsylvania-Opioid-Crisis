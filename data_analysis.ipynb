{
 "cells": [
  {
   "cell_type": "markdown",
   "metadata": {},
   "source": [
    "# PA Opioid Epidemic"
   ]
  },
  {
   "cell_type": "code",
   "execution_count": 1,
   "metadata": {},
   "outputs": [],
   "source": [
    "import pandas as pd\n",
    "import numpy as np\n",
    "import matplotlib as plt\n",
    "import folium"
   ]
  },
  {
   "cell_type": "code",
   "execution_count": 2,
   "metadata": {},
   "outputs": [],
   "source": [
    "overdose_dat = 'Overdose_Information_Network_Data_CY_January_2018_-_Current_Monthly_County_State_Police.csv'\n",
    "county_geo = 'PaCounty2020_01.geojson'"
   ]
  },
  {
   "cell_type": "code",
   "execution_count": 3,
   "metadata": {},
   "outputs": [],
   "source": [
    "ovd = pd.read_csv(overdose_dat)"
   ]
  },
  {
   "cell_type": "code",
   "execution_count": 6,
   "metadata": {},
   "outputs": [],
   "source": [
    "df = ovd.drop(['Incident Time', 'Response Time Desc', 'Revive Action Desc', 'Response Desc', 'Victim County', 'Victim OD Drug ID', 'Third Party Admin Desc', 'Administration ID', 'Dose Count', 'Dose Unit', 'Dose Desc', 'Incident ID', 'Victim State', 'Incident State', 'Victim County Latitude and Longitude', 'Incident County Latitude and Longitude', 'Victim ID', 'Victim County FIPS Code', 'Incident County FIPS Code', 'Victim County Latitude', 'Victim County Longitude'], axis=1)\n",
    "df = df.rename(columns={\"Survive\": \"Survived\", \"Ethnicity Desc\": \"Hispanic\", \"Accidental Exposure\": \"Accident\", \"Age Range\": \"Age\", \"Naloxone Administered\": \"Naloxone\", \"Incident County Longitude\": \"Longitude\", \"Incident County Latitude\": \"Latitude\", \"Susp OD Drug Desc\": \"Drug\", \"Gender Desc\": \"Gender\", \"Incident Date\": \"Date\", \"Incident County Name\": \"County\"})"
   ]
  },
  {
   "cell_type": "code",
   "execution_count": 7,
   "metadata": {},
   "outputs": [],
   "source": [
    "df['Date'] = df['Date'].replace(to_replace=r'\\/', value=':', regex=True)\n",
    "df['Date'] = pd.to_datetime(df['Date'], format='%m:%d:%Y')"
   ]
  },
  {
   "cell_type": "code",
   "execution_count": 8,
   "metadata": {},
   "outputs": [],
   "source": [
    "df['Age'] = df['Age'].replace(to_replace=r'\\s\\-\\s', value='-', regex=True)\n",
    "df['Age'] = df['Age'].replace(to_replace=r'14-Oct', value='0-14')\n",
    "df['Age'] = df['Age'].replace(to_replace=r'0-9', value='0-14')\n",
    "df['Age'] = df['Age'].replace(to_replace=r'70-79', value='70-99')\n",
    "df['Age'] = df['Age'].replace(to_replace=r'80-*', value='70-99')"
   ]
  },
  {
   "cell_type": "code",
   "execution_count": 9,
   "metadata": {},
   "outputs": [],
   "source": [
    "df['Gender'] = df['Gender'].replace(to_replace=r'Male', value='1')\n",
    "df['Gender'] = df['Gender'].replace(to_replace=r'Female', value='2')\n",
    "df['Gender'] = df['Gender'].replace(to_replace=r'Unknown', value='0')"
   ]
  },
  {
   "cell_type": "code",
   "execution_count": 10,
   "metadata": {},
   "outputs": [],
   "source": [
    "df['Hispanic'] = df['Hispanic'].replace(to_replace=r'Not Hispanic', value='0')\n",
    "df['Hispanic'] = df['Hispanic'].replace(to_replace=r'Hispanic', value='1')\n",
    "df['Hispanic'] = df['Hispanic'].replace(to_replace=r'Unknown', value='0')\n",
    "df['Hispanic'] = df['Hispanic'].replace(to_replace=r'Mongolian', value='0')"
   ]
  },
  {
   "cell_type": "code",
   "execution_count": 11,
   "metadata": {},
   "outputs": [],
   "source": [
    "df['Race'] = df['Race'].replace(to_replace=r'Unknown', value='Other')\n",
    "df['Race'] = df['Race'].replace(to_replace=r'Asian or Pacific Islander', value='Other')\n",
    "df['Race'] = df['Race'].replace(to_replace=r'American Indian or Alaskan Native', value='Other')\n",
    "df['Race'] = df['Race'].replace(to_replace=r'Other', value='0')\n",
    "df['Race'] = df['Race'].replace(to_replace=r'White', value='1')\n",
    "df['Race'] = df['Race'].replace(to_replace=r'Black', value='2')"
   ]
  },
  {
   "cell_type": "code",
   "execution_count": 12,
   "metadata": {},
   "outputs": [],
   "source": [
    "df['Drug'] = df['Drug'].str.lower()\n",
    "df['Drug'] = df['Drug'].replace(to_replace=r'benzodiazepines (i.e.valium, xanax, ativan, etc)', value='benzodiazepines')\n",
    "df['Drug'] = df['Drug'].replace(to_replace=r'buprenorphine (i.e. suboxone, sublocade, subutex, butrans, buprenex, etc)', value='buprenorphine')\n",
    "df['Drug'] = df['Drug'].replace(to_replace=r'barbiturates (i.e. amytal, nembutal, etc)', value='barbiturates')\n",
    "df['Drug'] = df['Drug'].replace(to_replace=r'fentanyl analog/other synthetic opioid', value='fentanyl')"
   ]
  },
  {
   "cell_type": "code",
   "execution_count": 13,
   "metadata": {},
   "outputs": [],
   "source": [
    "df['Accident'] = df['Accident'].replace(to_replace=r'N', value='0')\n",
    "df['Accident'] = df['Accident'].replace(to_replace=r'Y', value='1')"
   ]
  },
  {
   "cell_type": "code",
   "execution_count": 14,
   "metadata": {},
   "outputs": [],
   "source": [
    "df['Naloxone'] = df['Naloxone'].replace(to_replace=r'N', value='0')\n",
    "df['Naloxone'] = df['Naloxone'].replace(to_replace=r'Y', value='1')"
   ]
  },
  {
   "cell_type": "code",
   "execution_count": 15,
   "metadata": {},
   "outputs": [],
   "source": [
    "df['Survived'] = df['Survived'].replace(to_replace=r'N', value='0')\n",
    "df['Survived'] = df['Survived'].replace(to_replace=r'Y', value='1')\n",
    "df['Survived'] = df['Survived'].replace(to_replace=r'U', value='2')"
   ]
  },
  {
   "cell_type": "code",
   "execution_count": 16,
   "metadata": {},
   "outputs": [],
   "source": [
    "df['Day'] = df['Day'].replace(to_replace=r'Sunday', value='0')\n",
    "df['Day'] = df['Day'].replace(to_replace=r'Monday', value='1')\n",
    "df['Day'] = df['Day'].replace(to_replace=r'Tuesday', value='2')\n",
    "df['Day'] = df['Day'].replace(to_replace=r'Wednesday', value='3')\n",
    "df['Day'] = df['Day'].replace(to_replace=r'Thursday', value='4')\n",
    "df['Day'] = df['Day'].replace(to_replace=r'Friday', value='5')\n",
    "df['Day'] = df['Day'].replace(to_replace=r'Saturday', value='6')"
   ]
  },
  {
   "cell_type": "code",
   "execution_count": 17,
   "metadata": {},
   "outputs": [
    {
     "data": {
      "text/plain": [
       "30-39    8755\n",
       "25-29    4865\n",
       "40-49    3937\n",
       "20-24    2678\n",
       "50-59    2165\n",
       "60-69     683\n",
       "15-19     470\n",
       "70-99      87\n",
       "0-14       68\n",
       "Name: Age, dtype: int64"
      ]
     },
     "execution_count": 17,
     "metadata": {},
     "output_type": "execute_result"
    }
   ],
   "source": [
    "df['Age'].value_counts()"
   ]
  },
  {
   "cell_type": "code",
   "execution_count": 18,
   "metadata": {},
   "outputs": [
    {
     "data": {
      "text/plain": [
       "heroin                      12201\n",
       "fentanyl                     4085\n",
       "unknown                      2433\n",
       "pharmaceutical opioid         784\n",
       "cocaine/crack                 624\n",
       "other                         545\n",
       "methamphetamine               521\n",
       "alcohol                       482\n",
       "pharmaceutical other          469\n",
       "benzodiazepines               464\n",
       "marijuana                     339\n",
       "synthetic marijuana           257\n",
       "buprenorphine                 184\n",
       "carfentanil                   125\n",
       "methadone                     110\n",
       "pharmaceutical stimulant       36\n",
       "barbiturates                   34\n",
       "bath salts                     15\n",
       "Name: Drug, dtype: int64"
      ]
     },
     "execution_count": 18,
     "metadata": {},
     "output_type": "execute_result"
    }
   ],
   "source": [
    "df['Drug'].value_counts()"
   ]
  },
  {
   "cell_type": "code",
   "execution_count": 19,
   "metadata": {},
   "outputs": [
    {
     "data": {
      "text/html": [
       "<div>\n",
       "<style scoped>\n",
       "    .dataframe tbody tr th:only-of-type {\n",
       "        vertical-align: middle;\n",
       "    }\n",
       "\n",
       "    .dataframe tbody tr th {\n",
       "        vertical-align: top;\n",
       "    }\n",
       "\n",
       "    .dataframe thead th {\n",
       "        text-align: right;\n",
       "    }\n",
       "</style>\n",
       "<table border=\"1\" class=\"dataframe\">\n",
       "  <thead>\n",
       "    <tr style=\"text-align: right;\">\n",
       "      <th></th>\n",
       "      <th>Date</th>\n",
       "      <th>Day</th>\n",
       "      <th>County</th>\n",
       "      <th>Gender</th>\n",
       "      <th>Age</th>\n",
       "      <th>Race</th>\n",
       "      <th>Hispanic</th>\n",
       "      <th>Accident</th>\n",
       "      <th>Drug</th>\n",
       "      <th>Naloxone</th>\n",
       "      <th>Survived</th>\n",
       "      <th>Latitude</th>\n",
       "      <th>Longitude</th>\n",
       "    </tr>\n",
       "  </thead>\n",
       "  <tbody>\n",
       "    <tr>\n",
       "      <th>0</th>\n",
       "      <td>2020-07-02</td>\n",
       "      <td>4</td>\n",
       "      <td>York</td>\n",
       "      <td>1</td>\n",
       "      <td>50-59</td>\n",
       "      <td>1</td>\n",
       "      <td>1</td>\n",
       "      <td>0</td>\n",
       "      <td>heroin</td>\n",
       "      <td>1</td>\n",
       "      <td>1</td>\n",
       "      <td>39.921925</td>\n",
       "      <td>-76.725761</td>\n",
       "    </tr>\n",
       "    <tr>\n",
       "      <th>1</th>\n",
       "      <td>2020-09-20</td>\n",
       "      <td>0</td>\n",
       "      <td>York</td>\n",
       "      <td>1</td>\n",
       "      <td>20-24</td>\n",
       "      <td>1</td>\n",
       "      <td>0</td>\n",
       "      <td>0</td>\n",
       "      <td>fentanyl</td>\n",
       "      <td>1</td>\n",
       "      <td>1</td>\n",
       "      <td>39.921925</td>\n",
       "      <td>-76.725761</td>\n",
       "    </tr>\n",
       "    <tr>\n",
       "      <th>2</th>\n",
       "      <td>2020-09-11</td>\n",
       "      <td>5</td>\n",
       "      <td>Union</td>\n",
       "      <td>1</td>\n",
       "      <td>50-59</td>\n",
       "      <td>1</td>\n",
       "      <td>0</td>\n",
       "      <td>0</td>\n",
       "      <td>heroin</td>\n",
       "      <td>0</td>\n",
       "      <td>0</td>\n",
       "      <td>40.964731</td>\n",
       "      <td>-77.064158</td>\n",
       "    </tr>\n",
       "    <tr>\n",
       "      <th>3</th>\n",
       "      <td>2020-07-10</td>\n",
       "      <td>5</td>\n",
       "      <td>York</td>\n",
       "      <td>1</td>\n",
       "      <td>40-49</td>\n",
       "      <td>1</td>\n",
       "      <td>0</td>\n",
       "      <td>0</td>\n",
       "      <td>fentanyl</td>\n",
       "      <td>1</td>\n",
       "      <td>1</td>\n",
       "      <td>39.921925</td>\n",
       "      <td>-76.725761</td>\n",
       "    </tr>\n",
       "    <tr>\n",
       "      <th>4</th>\n",
       "      <td>2020-06-20</td>\n",
       "      <td>6</td>\n",
       "      <td>York</td>\n",
       "      <td>1</td>\n",
       "      <td>40-49</td>\n",
       "      <td>1</td>\n",
       "      <td>0</td>\n",
       "      <td>0</td>\n",
       "      <td>fentanyl</td>\n",
       "      <td>0</td>\n",
       "      <td>0</td>\n",
       "      <td>39.921925</td>\n",
       "      <td>-76.725761</td>\n",
       "    </tr>\n",
       "  </tbody>\n",
       "</table>\n",
       "</div>"
      ],
      "text/plain": [
       "        Date Day County Gender    Age Race Hispanic Accident      Drug  \\\n",
       "0 2020-07-02   4   York      1  50-59    1        1        0    heroin   \n",
       "1 2020-09-20   0   York      1  20-24    1        0        0  fentanyl   \n",
       "2 2020-09-11   5  Union      1  50-59    1        0        0    heroin   \n",
       "3 2020-07-10   5   York      1  40-49    1        0        0  fentanyl   \n",
       "4 2020-06-20   6   York      1  40-49    1        0        0  fentanyl   \n",
       "\n",
       "  Naloxone Survived   Latitude  Longitude  \n",
       "0        1        1  39.921925 -76.725761  \n",
       "1        1        1  39.921925 -76.725761  \n",
       "2        0        0  40.964731 -77.064158  \n",
       "3        1        1  39.921925 -76.725761  \n",
       "4        0        0  39.921925 -76.725761  "
      ]
     },
     "execution_count": 19,
     "metadata": {},
     "output_type": "execute_result"
    }
   ],
   "source": [
    "df.head()"
   ]
  },
  {
   "cell_type": "code",
   "execution_count": null,
   "metadata": {},
   "outputs": [],
   "source": []
  }
 ],
 "metadata": {
  "kernelspec": {
   "display_name": "Python 3",
   "language": "python",
   "name": "python3"
  },
  "language_info": {
   "codemirror_mode": {
    "name": "ipython",
    "version": 3
   },
   "file_extension": ".py",
   "mimetype": "text/x-python",
   "name": "python",
   "nbconvert_exporter": "python",
   "pygments_lexer": "ipython3",
   "version": "3.9.1"
  }
 },
 "nbformat": 4,
 "nbformat_minor": 4
}
