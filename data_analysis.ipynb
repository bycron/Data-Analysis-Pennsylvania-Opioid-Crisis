{
 "cells": [
  {
   "cell_type": "markdown",
   "metadata": {},
   "source": [
    "# PA Opioid Epidemic"
   ]
  },
  {
   "cell_type": "code",
   "execution_count": 253,
   "metadata": {},
   "outputs": [],
   "source": [
    "import pandas as pd\n",
    "import numpy as np\n",
    "import matplotlib as plt\n",
    "import folium"
   ]
  },
  {
   "cell_type": "code",
   "execution_count": 254,
   "metadata": {},
   "outputs": [],
   "source": [
    "arrest_dat = 'Opioid_Seizures_and_Arrests_CY_2013_-_Current_Quarterly_County_State_Police.csv'\n",
    "overdose_dat = 'Overdose_Information_Network_Data_CY_January_2018_-_Current_Monthly_County_State_Police.csv'\n",
    "county_geo = 'PaCounty2020_01.geojson'"
   ]
  },
  {
   "cell_type": "code",
   "execution_count": 255,
   "metadata": {},
   "outputs": [],
   "source": [
    "arr_df = pd.read_csv(arrest_dat)\n",
    "ovd_df = pd.read_csv(overdose_dat)"
   ]
  },
  {
   "cell_type": "code",
   "execution_count": 256,
   "metadata": {},
   "outputs": [],
   "source": [
    "odf = ovd_df.drop(['Response Time Desc', 'Revive Action Desc', 'Response Desc', 'Victim County', 'Victim OD Drug ID', 'Third Party Admin Desc', 'Administration ID', 'Dose Count', 'Dose Unit', 'Dose Desc', 'Ethnicity Desc', 'Incident ID', 'Victim State', 'Incident State', 'Victim County Latitude and Longitude', 'Incident County Latitude and Longitude', 'Victim ID', 'Victim County FIPS Code', 'Incident County FIPS Code', 'Victim County Latitude', 'Victim County Longitude'], axis=1)\n",
    "odf = odf.rename(columns={\"Accidental Exposure\": \"Accident\", \"Age Range\": \"Age\", \"Naloxone Administered\": \"Naloxone\", \"Incident County Longitude\": \"Longitude\", \"Incident County Latitude\": \"Latitude\", \"Susp OD Drug Desc\": \"Drug\", \"Gender Desc\": \"Gender\", \"Incident Date\": \"Date\", \"Incident Time\": \"Time\", \"Incident County Name\": \"County\"})\n",
    "odf['Date'] = odf['Date'] + \":\" + odf['Time']\n",
    "odf = odf.drop(['Time'], axis=1)"
   ]
  },
  {
   "cell_type": "code",
   "execution_count": 257,
   "metadata": {},
   "outputs": [],
   "source": [
    "odf['Date'] = odf['Date'].replace(to_replace=r'\\/', value=':', regex=True)\n",
    "odf['Date'] = pd.to_datetime(odf['Date'], format='%m:%d:%Y:%H:%M:%S')\n",
    "odf['Day'] = odf['Day'].astype('category')"
   ]
  },
  {
   "cell_type": "code",
   "execution_count": 258,
   "metadata": {},
   "outputs": [],
   "source": [
    "odf['Age'] = odf['Age'].replace(to_replace=r'\\s\\-\\s', value='-', regex=True)\n",
    "odf['Age'] = odf['Age'].astype('category')"
   ]
  },
  {
   "cell_type": "code",
   "execution_count": 259,
   "metadata": {},
   "outputs": [],
   "source": [
    "odf['Gender'] = odf['Gender'].replace(to_replace=r'Male', value='0', regex=True)\n",
    "odf['Gender'] = odf['Gender'].replace(to_replace=r'Female', value='1', regex=True)\n",
    "odf['Gender'] = odf['Gender'].replace(to_replace=r'Unknown', value='2', regex=True)\n",
    "odf['Gender'] = odf['Gender'].astype(int)"
   ]
  },
  {
   "cell_type": "code",
   "execution_count": 260,
   "metadata": {},
   "outputs": [],
   "source": [
    "odf['Accident'] = odf['Accident'].replace(to_replace=r'N', value='0', regex=True)\n",
    "odf['Accident'] = odf['Accident'].replace(to_replace=r'Y', value='1', regex=True)\n",
    "odf['Accident'] = odf['Accident'].astype(int)"
   ]
  },
  {
   "cell_type": "code",
   "execution_count": 261,
   "metadata": {},
   "outputs": [],
   "source": [
    "odf['Naloxone'] = odf['Naloxone'].replace(to_replace=r'N', value='0', regex=True)\n",
    "odf['Naloxone'] = odf['Naloxone'].replace(to_replace=r'Y', value='1', regex=True)\n",
    "odf['Naloxone'] = odf['Naloxone'].astype(int)"
   ]
  },
  {
   "cell_type": "code",
   "execution_count": 262,
   "metadata": {},
   "outputs": [],
   "source": [
    "odf['Survive'] = odf['Survive'].replace(to_replace=r'N', value='0', regex=True)\n",
    "odf['Survive'] = odf['Survive'].replace(to_replace=r'Y', value='1', regex=True)\n",
    "odf['Survive'] = odf['Survive'].replace(to_replace=r'U', value='2', regex=True)\n",
    "odf['Survive'] = odf['Survive'].astype(int)"
   ]
  },
  {
   "cell_type": "code",
   "execution_count": 263,
   "metadata": {},
   "outputs": [],
   "source": [
    "odf['Race'] = odf['Race'].astype('category')"
   ]
  },
  {
   "cell_type": "code",
   "execution_count": 264,
   "metadata": {},
   "outputs": [],
   "source": [
    "odf['County'] = odf['County'].astype('category')"
   ]
  },
  {
   "cell_type": "code",
   "execution_count": 265,
   "metadata": {},
   "outputs": [],
   "source": [
    "odf['Drug'] = odf['Drug'].astype('category')"
   ]
  },
  {
   "cell_type": "code",
   "execution_count": 266,
   "metadata": {},
   "outputs": [
    {
     "data": {
      "text/html": [
       "<div>\n",
       "<style scoped>\n",
       "    .dataframe tbody tr th:only-of-type {\n",
       "        vertical-align: middle;\n",
       "    }\n",
       "\n",
       "    .dataframe tbody tr th {\n",
       "        vertical-align: top;\n",
       "    }\n",
       "\n",
       "    .dataframe thead th {\n",
       "        text-align: right;\n",
       "    }\n",
       "</style>\n",
       "<table border=\"1\" class=\"dataframe\">\n",
       "  <thead>\n",
       "    <tr style=\"text-align: right;\">\n",
       "      <th></th>\n",
       "      <th>Date</th>\n",
       "      <th>Day</th>\n",
       "      <th>County</th>\n",
       "      <th>Gender</th>\n",
       "      <th>Age</th>\n",
       "      <th>Race</th>\n",
       "      <th>Accident</th>\n",
       "      <th>Drug</th>\n",
       "      <th>Naloxone</th>\n",
       "      <th>Survive</th>\n",
       "      <th>Latitude</th>\n",
       "      <th>Longitude</th>\n",
       "    </tr>\n",
       "  </thead>\n",
       "  <tbody>\n",
       "    <tr>\n",
       "      <th>0</th>\n",
       "      <td>2020-07-02 12:48:00</td>\n",
       "      <td>Thursday</td>\n",
       "      <td>York</td>\n",
       "      <td>0</td>\n",
       "      <td>50-59</td>\n",
       "      <td>White</td>\n",
       "      <td>0</td>\n",
       "      <td>HEROIN</td>\n",
       "      <td>1</td>\n",
       "      <td>1</td>\n",
       "      <td>39.921925</td>\n",
       "      <td>-76.725761</td>\n",
       "    </tr>\n",
       "    <tr>\n",
       "      <th>1</th>\n",
       "      <td>2020-09-20 23:11:00</td>\n",
       "      <td>Sunday</td>\n",
       "      <td>York</td>\n",
       "      <td>0</td>\n",
       "      <td>20-24</td>\n",
       "      <td>White</td>\n",
       "      <td>0</td>\n",
       "      <td>FENTANYL ANALOG/OTHER SYNTHETIC OPIOID</td>\n",
       "      <td>1</td>\n",
       "      <td>1</td>\n",
       "      <td>39.921925</td>\n",
       "      <td>-76.725761</td>\n",
       "    </tr>\n",
       "    <tr>\n",
       "      <th>2</th>\n",
       "      <td>2020-09-11 20:00:00</td>\n",
       "      <td>Friday</td>\n",
       "      <td>Union</td>\n",
       "      <td>0</td>\n",
       "      <td>50-59</td>\n",
       "      <td>White</td>\n",
       "      <td>0</td>\n",
       "      <td>HEROIN</td>\n",
       "      <td>0</td>\n",
       "      <td>0</td>\n",
       "      <td>40.964731</td>\n",
       "      <td>-77.064158</td>\n",
       "    </tr>\n",
       "    <tr>\n",
       "      <th>3</th>\n",
       "      <td>2020-07-10 21:10:00</td>\n",
       "      <td>Friday</td>\n",
       "      <td>York</td>\n",
       "      <td>0</td>\n",
       "      <td>40-49</td>\n",
       "      <td>White</td>\n",
       "      <td>0</td>\n",
       "      <td>FENTANYL</td>\n",
       "      <td>1</td>\n",
       "      <td>1</td>\n",
       "      <td>39.921925</td>\n",
       "      <td>-76.725761</td>\n",
       "    </tr>\n",
       "    <tr>\n",
       "      <th>4</th>\n",
       "      <td>2020-06-20 20:52:00</td>\n",
       "      <td>Saturday</td>\n",
       "      <td>York</td>\n",
       "      <td>0</td>\n",
       "      <td>40-49</td>\n",
       "      <td>White</td>\n",
       "      <td>0</td>\n",
       "      <td>FENTANYL</td>\n",
       "      <td>0</td>\n",
       "      <td>0</td>\n",
       "      <td>39.921925</td>\n",
       "      <td>-76.725761</td>\n",
       "    </tr>\n",
       "  </tbody>\n",
       "</table>\n",
       "</div>"
      ],
      "text/plain": [
       "                 Date       Day County  Gender    Age   Race  Accident  \\\n",
       "0 2020-07-02 12:48:00  Thursday   York       0  50-59  White         0   \n",
       "1 2020-09-20 23:11:00    Sunday   York       0  20-24  White         0   \n",
       "2 2020-09-11 20:00:00    Friday  Union       0  50-59  White         0   \n",
       "3 2020-07-10 21:10:00    Friday   York       0  40-49  White         0   \n",
       "4 2020-06-20 20:52:00  Saturday   York       0  40-49  White         0   \n",
       "\n",
       "                                     Drug  Naloxone  Survive   Latitude  \\\n",
       "0                                  HEROIN         1        1  39.921925   \n",
       "1  FENTANYL ANALOG/OTHER SYNTHETIC OPIOID         1        1  39.921925   \n",
       "2                                  HEROIN         0        0  40.964731   \n",
       "3                                FENTANYL         1        1  39.921925   \n",
       "4                                FENTANYL         0        0  39.921925   \n",
       "\n",
       "   Longitude  \n",
       "0 -76.725761  \n",
       "1 -76.725761  \n",
       "2 -77.064158  \n",
       "3 -76.725761  \n",
       "4 -76.725761  "
      ]
     },
     "execution_count": 266,
     "metadata": {},
     "output_type": "execute_result"
    }
   ],
   "source": [
    "odf.head()"
   ]
  },
  {
   "cell_type": "code",
   "execution_count": 267,
   "metadata": {},
   "outputs": [
    {
     "data": {
      "text/plain": [
       "(2290, 16)"
      ]
     },
     "execution_count": 267,
     "metadata": {},
     "output_type": "execute_result"
    }
   ],
   "source": [
    "arr_df.shape"
   ]
  },
  {
   "cell_type": "code",
   "execution_count": 268,
   "metadata": {},
   "outputs": [
    {
     "data": {
      "text/html": [
       "<div>\n",
       "<style scoped>\n",
       "    .dataframe tbody tr th:only-of-type {\n",
       "        vertical-align: middle;\n",
       "    }\n",
       "\n",
       "    .dataframe tbody tr th {\n",
       "        vertical-align: top;\n",
       "    }\n",
       "\n",
       "    .dataframe thead th {\n",
       "        text-align: right;\n",
       "    }\n",
       "</style>\n",
       "<table border=\"1\" class=\"dataframe\">\n",
       "  <thead>\n",
       "    <tr style=\"text-align: right;\">\n",
       "      <th></th>\n",
       "      <th>Year</th>\n",
       "      <th>Qtr</th>\n",
       "      <th>Qtr Start Date</th>\n",
       "      <th>County Code</th>\n",
       "      <th>County Code Text</th>\n",
       "      <th>FIPS State Code</th>\n",
       "      <th>FIPS County Code</th>\n",
       "      <th>County Name</th>\n",
       "      <th>Drug</th>\n",
       "      <th>Incident Count</th>\n",
       "      <th>Drug Quantity</th>\n",
       "      <th>Unit Used</th>\n",
       "      <th>Arrests</th>\n",
       "      <th>Latitude</th>\n",
       "      <th>Longitude</th>\n",
       "      <th>Georeferenced Latitude &amp; Longitude</th>\n",
       "    </tr>\n",
       "  </thead>\n",
       "  <tbody>\n",
       "    <tr>\n",
       "      <th>0</th>\n",
       "      <td>2020</td>\n",
       "      <td>Q3</td>\n",
       "      <td>07/01/2020</td>\n",
       "      <td>63</td>\n",
       "      <td>63</td>\n",
       "      <td>42</td>\n",
       "      <td>125</td>\n",
       "      <td>Washington</td>\n",
       "      <td>Heroin</td>\n",
       "      <td>19</td>\n",
       "      <td>0.02982</td>\n",
       "      <td>Kilograms</td>\n",
       "      <td>30</td>\n",
       "      <td>40.191097</td>\n",
       "      <td>-80.251801</td>\n",
       "      <td>POINT (-80.251801 40.191097)</td>\n",
       "    </tr>\n",
       "    <tr>\n",
       "      <th>1</th>\n",
       "      <td>2015</td>\n",
       "      <td>Q4</td>\n",
       "      <td>10/01/2015</td>\n",
       "      <td>5</td>\n",
       "      <td>5</td>\n",
       "      <td>42</td>\n",
       "      <td>9</td>\n",
       "      <td>Bedford</td>\n",
       "      <td>Heroin</td>\n",
       "      <td>3</td>\n",
       "      <td>0.00480</td>\n",
       "      <td>Kilograms</td>\n",
       "      <td>2</td>\n",
       "      <td>40.007375</td>\n",
       "      <td>-78.491165</td>\n",
       "      <td>POINT (-78.491165 40.007375)</td>\n",
       "    </tr>\n",
       "    <tr>\n",
       "      <th>2</th>\n",
       "      <td>2016</td>\n",
       "      <td>Q3</td>\n",
       "      <td>07/01/2016</td>\n",
       "      <td>59</td>\n",
       "      <td>59</td>\n",
       "      <td>42</td>\n",
       "      <td>117</td>\n",
       "      <td>Tioga</td>\n",
       "      <td>Heroin</td>\n",
       "      <td>1</td>\n",
       "      <td>0.02830</td>\n",
       "      <td>Kilograms</td>\n",
       "      <td>2</td>\n",
       "      <td>41.773338</td>\n",
       "      <td>-77.257881</td>\n",
       "      <td>POINT (-77.257881 41.773338)</td>\n",
       "    </tr>\n",
       "    <tr>\n",
       "      <th>3</th>\n",
       "      <td>2013</td>\n",
       "      <td>Q2</td>\n",
       "      <td>04/01/2013</td>\n",
       "      <td>22</td>\n",
       "      <td>22</td>\n",
       "      <td>42</td>\n",
       "      <td>43</td>\n",
       "      <td>Dauphin</td>\n",
       "      <td>Heroin</td>\n",
       "      <td>3</td>\n",
       "      <td>0.00133</td>\n",
       "      <td>Kilograms</td>\n",
       "      <td>1</td>\n",
       "      <td>40.419746</td>\n",
       "      <td>-76.779606</td>\n",
       "      <td>POINT (-76.779606 40.419746)</td>\n",
       "    </tr>\n",
       "    <tr>\n",
       "      <th>4</th>\n",
       "      <td>2020</td>\n",
       "      <td>Q4</td>\n",
       "      <td>10/01/2020</td>\n",
       "      <td>18</td>\n",
       "      <td>18</td>\n",
       "      <td>42</td>\n",
       "      <td>35</td>\n",
       "      <td>Clinton</td>\n",
       "      <td>Fentanyl</td>\n",
       "      <td>1</td>\n",
       "      <td>0.01100</td>\n",
       "      <td>Kilograms</td>\n",
       "      <td>1</td>\n",
       "      <td>41.232863</td>\n",
       "      <td>-77.642838</td>\n",
       "      <td>POINT (-77.642838 41.232863)</td>\n",
       "    </tr>\n",
       "  </tbody>\n",
       "</table>\n",
       "</div>"
      ],
      "text/plain": [
       "   Year Qtr Qtr Start Date  County Code  County Code Text  FIPS State Code  \\\n",
       "0  2020  Q3     07/01/2020           63                63               42   \n",
       "1  2015  Q4     10/01/2015            5                 5               42   \n",
       "2  2016  Q3     07/01/2016           59                59               42   \n",
       "3  2013  Q2     04/01/2013           22                22               42   \n",
       "4  2020  Q4     10/01/2020           18                18               42   \n",
       "\n",
       "   FIPS County Code County Name      Drug  Incident Count  Drug Quantity  \\\n",
       "0               125  Washington    Heroin              19        0.02982   \n",
       "1                 9     Bedford    Heroin               3        0.00480   \n",
       "2               117       Tioga    Heroin               1        0.02830   \n",
       "3                43     Dauphin    Heroin               3        0.00133   \n",
       "4                35     Clinton  Fentanyl               1        0.01100   \n",
       "\n",
       "   Unit Used  Arrests   Latitude  Longitude Georeferenced Latitude & Longitude  \n",
       "0  Kilograms       30  40.191097 -80.251801       POINT (-80.251801 40.191097)  \n",
       "1  Kilograms        2  40.007375 -78.491165       POINT (-78.491165 40.007375)  \n",
       "2  Kilograms        2  41.773338 -77.257881       POINT (-77.257881 41.773338)  \n",
       "3  Kilograms        1  40.419746 -76.779606       POINT (-76.779606 40.419746)  \n",
       "4  Kilograms        1  41.232863 -77.642838       POINT (-77.642838 41.232863)  "
      ]
     },
     "execution_count": 268,
     "metadata": {},
     "output_type": "execute_result"
    }
   ],
   "source": [
    "arr_df.head()"
   ]
  },
  {
   "cell_type": "code",
   "execution_count": 269,
   "metadata": {},
   "outputs": [],
   "source": [
    "adf = arr_df.drop(['Unit Used', 'Year', 'Qtr', 'Qtr Start Date', 'County Code', 'County Code Text', 'FIPS County Code', 'FIPS State Code', 'Georeferenced Latitude & Longitude'], axis=1)\n",
    "adf = adf.rename(columns={\"Drug Quantity\": \"kg\", \"County Name\": \"County\", \"Incident Count\": \"Incidents\"})"
   ]
  },
  {
   "cell_type": "code",
   "execution_count": 270,
   "metadata": {},
   "outputs": [
    {
     "data": {
      "text/plain": [
       "(2290, 7)"
      ]
     },
     "execution_count": 270,
     "metadata": {},
     "output_type": "execute_result"
    }
   ],
   "source": [
    "adf.shape"
   ]
  },
  {
   "cell_type": "code",
   "execution_count": null,
   "metadata": {},
   "outputs": [],
   "source": []
  }
 ],
 "metadata": {
  "kernelspec": {
   "display_name": "Python 3",
   "language": "python",
   "name": "python3"
  },
  "language_info": {
   "codemirror_mode": {
    "name": "ipython",
    "version": 3
   },
   "file_extension": ".py",
   "mimetype": "text/x-python",
   "name": "python",
   "nbconvert_exporter": "python",
   "pygments_lexer": "ipython3",
   "version": "3.9.1"
  }
 },
 "nbformat": 4,
 "nbformat_minor": 4
}
